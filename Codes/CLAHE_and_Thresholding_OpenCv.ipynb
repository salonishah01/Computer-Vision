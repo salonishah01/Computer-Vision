{
  "nbformat": 4,
  "nbformat_minor": 0,
  "metadata": {
    "colab": {
      "name": "CLAHE_and_Thresholding_OpenCv.ipynb",
      "provenance": [],
      "toc_visible": true
    },
    "kernelspec": {
      "name": "python3",
      "display_name": "Python 3"
    }
  },
  "cells": [
    {
      "cell_type": "code",
      "metadata": {
        "id": "hH4T7XCPVFPP",
        "colab_type": "code",
        "colab": {
          "base_uri": "https://localhost:8080/",
          "height": 121
        },
        "outputId": "a6f84cbd-cc5e-4bca-ba29-e736f816816b"
      },
      "source": [
        "from google.colab import drive\n",
        "drive.mount(\"/content/drive\")"
      ],
      "execution_count": 1,
      "outputs": [
        {
          "output_type": "stream",
          "text": [
            "Go to this URL in a browser: https://accounts.google.com/o/oauth2/auth?client_id=947318989803-6bn6qk8qdgf4n4g3pfee6491hc0brc4i.apps.googleusercontent.com&redirect_uri=urn%3aietf%3awg%3aoauth%3a2.0%3aoob&response_type=code&scope=email%20https%3a%2f%2fwww.googleapis.com%2fauth%2fdocs.test%20https%3a%2f%2fwww.googleapis.com%2fauth%2fdrive%20https%3a%2f%2fwww.googleapis.com%2fauth%2fdrive.photos.readonly%20https%3a%2f%2fwww.googleapis.com%2fauth%2fpeopleapi.readonly\n",
            "\n",
            "Enter your authorization code:\n",
            "··········\n",
            "Mounted at /content/drive\n"
          ],
          "name": "stdout"
        }
      ]
    },
    {
      "cell_type": "code",
      "metadata": {
        "id": "CpkO3RznVgA7",
        "colab_type": "code",
        "colab": {
          "base_uri": "https://localhost:8080/",
          "height": 668
        },
        "outputId": "e2990208-78be-43bb-c1ca-b767722e1f34"
      },
      "source": [
        "import cv2\n",
        "import numpy as np\n",
        "from matplotlib import pyplot as plt\n",
        "\n",
        "img = cv2.imread(\"/content/drive/My Drive/CVG/Alloy.jpg\", 0)\n",
        "equ = cv2.equalizeHist(img)\n",
        "\n",
        "plt.hist(equ.flat, bins=100, range=(0,100))\n"
      ],
      "execution_count": 2,
      "outputs": [
        {
          "output_type": "execute_result",
          "data": {
            "text/plain": [
              "(array([  573.,  1307.,   926.,  1142.,  1741.,     0.,  2198.,     0.,\n",
              "         2995.,     0.,     0.,  3842.,     0.,     0.,     0.,  4802.,\n",
              "            0.,     0.,     0.,  5955.,     0.,     0.,     0.,     0.,\n",
              "            0.,  7166.,     0.,     0.,     0.,     0.,     0.,  8100.,\n",
              "            0.,     0.,     0.,     0.,     0.,     0.,  9060.,     0.,\n",
              "            0.,     0.,     0.,     0.,     0.,  9738.,     0.,     0.,\n",
              "            0.,     0.,     0.,     0.,     0., 10360.,     0.,     0.,\n",
              "            0.,     0.,     0.,     0.,     0., 10465.,     0.,     0.,\n",
              "            0.,     0.,     0.,     0.,     0., 10358.,     0.,     0.,\n",
              "            0.,     0.,     0.,     0.,  9942.,     0.,     0.,     0.,\n",
              "            0.,     0.,     0.,  9190.,     0.,     0.,     0.,     0.,\n",
              "            0.,     0.,  8483.,     0.,     0.,     0.,     0.,     0.,\n",
              "         7701.,     0.,     0.,     0.]),\n",
              " array([  0.,   1.,   2.,   3.,   4.,   5.,   6.,   7.,   8.,   9.,  10.,\n",
              "         11.,  12.,  13.,  14.,  15.,  16.,  17.,  18.,  19.,  20.,  21.,\n",
              "         22.,  23.,  24.,  25.,  26.,  27.,  28.,  29.,  30.,  31.,  32.,\n",
              "         33.,  34.,  35.,  36.,  37.,  38.,  39.,  40.,  41.,  42.,  43.,\n",
              "         44.,  45.,  46.,  47.,  48.,  49.,  50.,  51.,  52.,  53.,  54.,\n",
              "         55.,  56.,  57.,  58.,  59.,  60.,  61.,  62.,  63.,  64.,  65.,\n",
              "         66.,  67.,  68.,  69.,  70.,  71.,  72.,  73.,  74.,  75.,  76.,\n",
              "         77.,  78.,  79.,  80.,  81.,  82.,  83.,  84.,  85.,  86.,  87.,\n",
              "         88.,  89.,  90.,  91.,  92.,  93.,  94.,  95.,  96.,  97.,  98.,\n",
              "         99., 100.]),\n",
              " <a list of 100 Patch objects>)"
            ]
          },
          "metadata": {
            "tags": []
          },
          "execution_count": 2
        },
        {
          "output_type": "display_data",
          "data": {
            "image/png": "[encoded data removed]",
            "text/plain": [
              "<Figure size 432x288 with 1 Axes>"
            ]
          },
          "metadata": {
            "tags": [],
            "needs_background": "light"
          }
        }
      ]
    },
    {
      "cell_type": "code",
      "metadata": {
        "id": "GzZ4bf3dWRYh",
        "colab_type": "code",
        "colab": {
          "base_uri": "https://localhost:8080/",
          "height": 35
        },
        "outputId": "aba5ab9e-fd79-4c8d-c640-8665d589de78"
      },
      "source": [
        "\"\"\"\n",
        "cv2.imshow(\"Original Image\", img)\n",
        "cv2.imshow(\"Equalized\", equ)\n",
        "\"\"\"\n"
      ],
      "execution_count": 3,
      "outputs": [
        {
          "output_type": "execute_result",
          "data": {
            "application/vnd.google.colaboratory.intrinsic+json": {
              "type": "string"
            },
            "text/plain": [
              "'\\ncv2.imshow(\"Original Image\", img)\\ncv2.imshow(\"Equalized\", equ)\\n'"
            ]
          },
          "metadata": {
            "tags": []
          },
          "execution_count": 3
        }
      ]
    },
    {
      "cell_type": "code",
      "metadata": {
        "id": "WA9rraJKWZ3T",
        "colab_type": "code",
        "colab": {}
      },
      "source": [
        "#Histogram Equalization considers the global contrast of the image, may not give good results.\n",
        "#Adaptive histogram equalization divides images into small tiles and performs hist. eq.\n",
        "#Contrast limiting is also applied to minimize aplification of noise.\n",
        "#Together the algorithm is called: Contrast Limited Adaptive Histogram Equalization (CLAHE)\n"
      ],
      "execution_count": 4,
      "outputs": []
    },
    {
      "cell_type": "code",
      "metadata": {
        "id": "mfughpdgWeAF",
        "colab_type": "code",
        "colab": {}
      },
      "source": [
        "clahe = cv2.createCLAHE(clipLimit=2.0, tileGridSize=(8,8))  #Define tile size and clip limit. \n",
        "cl1 = clahe.apply(img)\n"
      ],
      "execution_count": 5,
      "outputs": []
    },
    {
      "cell_type": "code",
      "metadata": {
        "id": "CVZ_cMvlWit4",
        "colab_type": "code",
        "colab": {
          "base_uri": "https://localhost:8080/",
          "height": 35
        },
        "outputId": "1bf73658-32a1-4928-f34d-723f0888c4d9"
      },
      "source": [
        "\"\"\"\n",
        "cv2.imshow(\"CLAHE\", cl1)\n",
        "\n",
        "cv2.waitKey(0)          \n",
        "cv2.destroyAllWindows()\n",
        "\"\"\" \n"
      ],
      "execution_count": 6,
      "outputs": [
        {
          "output_type": "execute_result",
          "data": {
            "application/vnd.google.colaboratory.intrinsic+json": {
              "type": "string"
            },
            "text/plain": [
              "'\\ncv2.imshow(\"CLAHE\", cl1)\\n\\ncv2.waitKey(0)          \\ncv2.destroyAllWindows()\\n'"
            ]
          },
          "metadata": {
            "tags": []
          },
          "execution_count": 6
        }
      ]
    },
    {
      "cell_type": "code",
      "metadata": {
        "id": "MhyxoPY6Wnop",
        "colab_type": "code",
        "colab": {
          "base_uri": "https://localhost:8080/",
          "height": 836
        },
        "outputId": "d8761c17-c75a-4325-8f1c-31dccbe7ed23"
      },
      "source": [
        "#Image thresholding\n",
        "\n",
        "import cv2\n",
        "import matplotlib.pyplot as plt\n",
        "\n",
        "img = cv2.imread(\"/content/drive/My Drive/CVG/Alloy.jpg\", 0)\n",
        "\n",
        "#Adaptive histogram equalization using CLAHE to stretch the histogram. \n",
        "#Contrast Limited Adaptive Histogram Equalization covered in the previous tutorial. \n",
        "clahe = cv2.createCLAHE(clipLimit=2.0, tileGridSize=(8,8))  #Define tile size and clip limit. \n",
        "clahe_img = clahe.apply(img)\n",
        "plt.hist(clahe_img.flat, bins =100, range=(0,255))\n"
      ],
      "execution_count": 7,
      "outputs": [
        {
          "output_type": "execute_result",
          "data": {
            "text/plain": [
              "(array([0.0000e+00, 0.0000e+00, 0.0000e+00, 0.0000e+00, 0.0000e+00,\n",
              "        0.0000e+00, 0.0000e+00, 0.0000e+00, 0.0000e+00, 0.0000e+00,\n",
              "        0.0000e+00, 0.0000e+00, 0.0000e+00, 0.0000e+00, 0.0000e+00,\n",
              "        0.0000e+00, 0.0000e+00, 0.0000e+00, 0.0000e+00, 0.0000e+00,\n",
              "        0.0000e+00, 1.0000e+00, 0.0000e+00, 1.0000e+00, 0.0000e+00,\n",
              "        1.0000e+00, 0.0000e+00, 0.0000e+00, 2.0000e+00, 0.0000e+00,\n",
              "        1.0000e+00, 1.0000e+00, 1.0000e+00, 3.0000e+00, 3.0000e+00,\n",
              "        1.0000e+00, 1.0000e+00, 8.0000e+00, 1.0000e+01, 2.5000e+01,\n",
              "        2.0400e+02, 7.1400e+02, 9.8600e+02, 1.9820e+03, 1.6940e+03,\n",
              "        3.0540e+03, 2.7120e+03, 4.8720e+03, 4.1990e+03, 7.6370e+03,\n",
              "        9.5500e+03, 6.3110e+03, 1.1853e+04, 7.3450e+03, 1.2929e+04,\n",
              "        7.5990e+03, 1.2193e+04, 7.2010e+03, 1.0710e+04, 6.1820e+03,\n",
              "        8.6940e+03, 7.3570e+03, 4.0810e+03, 5.5730e+03, 3.0830e+03,\n",
              "        4.2820e+03, 2.5670e+03, 3.6130e+03, 2.3720e+03, 3.4080e+03,\n",
              "        3.1200e+03, 2.0170e+03, 3.1570e+03, 2.0510e+03, 3.1180e+03,\n",
              "        2.0760e+03, 3.4890e+03, 2.6180e+03, 4.4170e+03, 3.5330e+03,\n",
              "        5.9830e+03, 7.2810e+03, 5.9890e+03, 9.8080e+03, 7.6810e+03,\n",
              "        1.1820e+04, 8.8000e+03, 1.2765e+04, 9.1210e+03, 1.2579e+04,\n",
              "        1.2189e+04, 6.2150e+03, 9.3120e+03, 4.5340e+03, 6.1850e+03,\n",
              "        2.7530e+03, 3.7460e+03, 1.8900e+03, 2.0800e+03, 5.5300e+02]),\n",
              " array([  0.  ,   2.55,   5.1 ,   7.65,  10.2 ,  12.75,  15.3 ,  17.85,\n",
              "         20.4 ,  22.95,  25.5 ,  28.05,  30.6 ,  33.15,  35.7 ,  38.25,\n",
              "         40.8 ,  43.35,  45.9 ,  48.45,  51.  ,  53.55,  56.1 ,  58.65,\n",
              "         61.2 ,  63.75,  66.3 ,  68.85,  71.4 ,  73.95,  76.5 ,  79.05,\n",
              "         81.6 ,  84.15,  86.7 ,  89.25,  91.8 ,  94.35,  96.9 ,  99.45,\n",
              "        102.  , 104.55, 107.1 , 109.65, 112.2 , 114.75, 117.3 , 119.85,\n",
              "        122.4 , 124.95, 127.5 , 130.05, 132.6 , 135.15, 137.7 , 140.25,\n",
              "        142.8 , 145.35, 147.9 , 150.45, 153.  , 155.55, 158.1 , 160.65,\n",
              "        163.2 , 165.75, 168.3 , 170.85, 173.4 , 175.95, 178.5 , 181.05,\n",
              "        183.6 , 186.15, 188.7 , 191.25, 193.8 , 196.35, 198.9 , 201.45,\n",
              "        204.  , 206.55, 209.1 , 211.65, 214.2 , 216.75, 219.3 , 221.85,\n",
              "        224.4 , 226.95, 229.5 , 232.05, 234.6 , 237.15, 239.7 , 242.25,\n",
              "        244.8 , 247.35, 249.9 , 252.45, 255.  ]),\n",
              " <a list of 100 Patch objects>)"
            ]
          },
          "metadata": {
            "tags": []
          },
          "execution_count": 7
        },
        {
          "output_type": "display_data",
          "data": {
            "image/png": "[encoded data removed]",
            "text/plain": [
              "<Figure size 432x288 with 1 Axes>"
            ]
          },
          "metadata": {
            "tags": [],
            "needs_background": "light"
          }
        }
      ]
    },
    {
      "cell_type": "code",
      "metadata": {
        "id": "bYnLSeCQWz15",
        "colab_type": "code",
        "colab": {}
      },
      "source": [
        "#Thresholding. Creates a uint8 image but with binary values.\n",
        "#Can use this image to further segment.\n",
        "#First argument is the source image, which should be a grayscale image.\n",
        "#Second argument is the threshold value which is used to classify the pixel values. \n",
        "#Third argument is the maxVal which represents the value to be given to the thresholded pixel."
      ],
      "execution_count": 8,
      "outputs": []
    },
    {
      "cell_type": "code",
      "metadata": {
        "id": "ueOsp4KvXF1U",
        "colab_type": "code",
        "colab": {}
      },
      "source": [
        "ret,thresh1 = cv2.threshold(clahe_img,185,150,cv2.THRESH_BINARY)  #All thresholded pixels in grey = 150\n",
        "ret,thresh2 = cv2.threshold(clahe_img,185,255,cv2.THRESH_BINARY_INV) # All thresholded pixels in white\n"
      ],
      "execution_count": 9,
      "outputs": []
    },
    {
      "cell_type": "code",
      "metadata": {
        "id": "XKOZ_VVMXKQv",
        "colab_type": "code",
        "colab": {
          "base_uri": "https://localhost:8080/",
          "height": 52
        },
        "outputId": "c80e6113-60b8-4221-8273-b78382c9f63f"
      },
      "source": [
        "\"\"\"\n",
        "cv2.imshow(\"Original\", img)\n",
        "cv2.imshow(\"Binary thresholded\", thresh1)\n",
        "cv2.imshow(\"Inverted Binary thresholded\", thresh2)\n",
        "cv2.waitKey(0)          \n",
        "cv2.destroyAllWindows() \n",
        "\"\"\""
      ],
      "execution_count": 10,
      "outputs": [
        {
          "output_type": "execute_result",
          "data": {
            "application/vnd.google.colaboratory.intrinsic+json": {
              "type": "string"
            },
            "text/plain": [
              "'\\ncv2.imshow(\"Original\", img)\\ncv2.imshow(\"Binary thresholded\", thresh1)\\ncv2.imshow(\"Inverted Binary thresholded\", thresh2)\\ncv2.waitKey(0)          \\ncv2.destroyAllWindows() \\n'"
            ]
          },
          "metadata": {
            "tags": []
          },
          "execution_count": 10
        }
      ]
    },
    {
      "cell_type": "code",
      "metadata": {
        "id": "1Z0ytCCoXPZ_",
        "colab_type": "code",
        "colab": {
          "base_uri": "https://localhost:8080/",
          "height": 283
        },
        "outputId": "04176583-81a8-4cc1-d477-c9c28e65ddf5"
      },
      "source": [
        "#OTSU Thresholding, binarization\n",
        "import cv2\n",
        "import matplotlib.pyplot as plt\n",
        "\n",
        "img = cv2.imread(\"/content/drive/My Drive/CVG/Alloy.jpg\", 0)\n",
        "\n",
        "clahe = cv2.createCLAHE(clipLimit=2.0, tileGridSize=(8,8))  #Define tile size and clip limit. \n",
        "clahe_img = clahe.apply(img)\n",
        "\n",
        "plt.hist(clahe_img.flat, bins =100, range=(0,255))\n",
        "\n",
        "# binary thresholding\n",
        "ret1,th1 = cv2.threshold(clahe_img,185,200,cv2.THRESH_BINARY)\n",
        "\n",
        "# Otsu's thresholding, automatically finds the threshold point. \n",
        "#Compare wth above value provided by us (185)\n",
        "ret2,th2 = cv2.threshold(clahe_img,0,255,cv2.THRESH_BINARY+cv2.THRESH_OTSU)\n",
        "\n",
        "\"\"\"\n",
        "cv2.imshow(\"Otsu\", th2)\n",
        "cv2.waitKey(0)          \n",
        "cv2.destroyAllWindows() \n",
        "\"\"\"\n",
        "\n",
        "# If working with noisy images\n",
        "# Clean up noise for better thresholding\n",
        "# Otsu's thresholding after Gaussian filtering. Canuse median or NLM for beteer edge preserving"
      ],
      "execution_count": 13,
      "outputs": [
        {
          "output_type": "execute_result",
          "data": {
            "application/vnd.google.colaboratory.intrinsic+json": {
              "type": "string"
            },
            "text/plain": [
              "'\\ncv2.imshow(\"Otsu\", th2)\\ncv2.waitKey(0)          \\ncv2.destroyAllWindows() \\n'"
            ]
          },
          "metadata": {
            "tags": []
          },
          "execution_count": 13
        },
        {
          "output_type": "display_data",
          "data": {
            "image/png": "[encoded data removed]",
            "text/plain": [
              "<Figure size 432x288 with 1 Axes>"
            ]
          },
          "metadata": {
            "tags": [],
            "needs_background": "light"
          }
        }
      ]
    },
    {
      "cell_type": "code",
      "metadata": {
        "id": "DQ2X3SArXf3J",
        "colab_type": "code",
        "colab": {
          "base_uri": "https://localhost:8080/",
          "height": 284
        },
        "outputId": "952cb4e8-7a41-4005-b34c-f56bc2b25342"
      },
      "source": [
        "import cv2\n",
        "import matplotlib.pyplot as plt\n",
        "\n",
        "img = cv2.imread(\"/content/drive/My Drive/CVG/Alloy.jpg\", 0)\n",
        "\n",
        "blur = cv2.GaussianBlur(clahe_img,(5,5),0)\n",
        "ret3,th3 = cv2.threshold(blur,0,255,cv2.THRESH_BINARY+cv2.THRESH_OTSU)\n",
        "\n",
        "\n",
        "plt.hist(blur.flat, bins =100, range=(0,255))\n",
        "\"\"\"\n",
        "cv2.imshow(\"OTSU Gaussian cleaned\", th3)\n",
        "cv2.waitKey(0)          \n",
        "cv2.destroyAllWindows()\n",
        "\"\"\" "
      ],
      "execution_count": 14,
      "outputs": [
        {
          "output_type": "execute_result",
          "data": {
            "application/vnd.google.colaboratory.intrinsic+json": {
              "type": "string"
            },
            "text/plain": [
              "'\\ncv2.imshow(\"OTSU Gaussian cleaned\", th3)\\ncv2.waitKey(0)          \\ncv2.destroyAllWindows()\\n'"
            ]
          },
          "metadata": {
            "tags": []
          },
          "execution_count": 14
        },
        {
          "output_type": "display_data",
          "data": {
            "image/png": "[encoded data removed]",
            "text/plain": [
              "<Figure size 432x288 with 1 Axes>"
            ]
          },
          "metadata": {
            "tags": [],
            "needs_background": "light"
          }
        }
      ]
    },
    {
      "cell_type": "code",
      "metadata": {
        "id": "PJy9zPxuX0zV",
        "colab_type": "code",
        "colab": {}
      },
      "source": [
        ""
      ],
      "execution_count": null,
      "outputs": []
    }
  ]
}