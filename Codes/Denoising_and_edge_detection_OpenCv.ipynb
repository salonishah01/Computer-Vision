{
  "nbformat": 4,
  "nbformat_minor": 0,
  "metadata": {
    "colab": {
      "name": "Denoising_and_edge_detection_OpenCv.ipynb",
      "provenance": [],
      "toc_visible": true
    },
    "kernelspec": {
      "name": "python3",
      "display_name": "Python 3"
    }
  },
  "cells": [
    {
      "cell_type": "code",
      "metadata": {
        "id": "lDyhsXvGARun",
        "colab_type": "code",
        "colab": {
          "base_uri": "https://localhost:8080/",
          "height": 121
        },
        "outputId": "44c408ab-53d4-4945-da88-f7e0ce1c6bd5"
      },
      "source": [
        "from google.colab import drive\n",
        "drive.mount(\"/content/drive\")"
      ],
      "execution_count": 1,
      "outputs": [
        {
          "output_type": "stream",
          "text": [
            "Go to this URL in a browser: https://accounts.google.com/o/oauth2/auth?client_id=947318989803-6bn6qk8qdgf4n4g3pfee6491hc0brc4i.apps.googleusercontent.com&redirect_uri=urn%3aietf%3awg%3aoauth%3a2.0%3aoob&response_type=code&scope=email%20https%3a%2f%2fwww.googleapis.com%2fauth%2fdocs.test%20https%3a%2f%2fwww.googleapis.com%2fauth%2fdrive%20https%3a%2f%2fwww.googleapis.com%2fauth%2fdrive.photos.readonly%20https%3a%2f%2fwww.googleapis.com%2fauth%2fpeopleapi.readonly\n",
            "\n",
            "Enter your authorization code:\n",
            "··········\n",
            "Mounted at /content/drive\n"
          ],
          "name": "stdout"
        }
      ]
    },
    {
      "cell_type": "code",
      "metadata": {
        "id": "tgaenM66BF_i",
        "colab_type": "code",
        "colab": {}
      },
      "source": [
        "import cv2\n",
        "import numpy as np\n",
        "from matplotlib import pyplot as plt"
      ],
      "execution_count": 2,
      "outputs": []
    },
    {
      "cell_type": "code",
      "metadata": {
        "id": "NnMnSw-kBZzE",
        "colab_type": "code",
        "colab": {}
      },
      "source": [
        "img = cv2.imread('/content/drive/My Drive/CVG/BSE_Google_noisy.jpg', 1)\n",
        "kernel = np.ones((5,5),np.float32)/25\n",
        "filt_2D = cv2.filter2D(img,-1,kernel)    #Convolution using the kernel we provide\n",
        "blur = cv2.blur(img,(5,5))   #Convolution with a normalized filter. Same as above for this example.\n",
        "blur_gaussian = cv2.GaussianBlur(img,(5,5),0)  #Gaussian kernel is used. \n",
        "median_blur = median = cv2.medianBlur(img,5)  #Using kernel size 5. Better on edges compared to gaussian.\n",
        "bilateral_blur = cv2.bilateralFilter(img,9,75,75)  #Good for noise removal but retain edge sharpness. \n"
      ],
      "execution_count": 3,
      "outputs": []
    },
    {
      "cell_type": "code",
      "metadata": {
        "id": "F-pWdoZUBd_8",
        "colab_type": "code",
        "colab": {
          "base_uri": "https://localhost:8080/",
          "height": 52
        },
        "outputId": "5ea118b6-6651-48a3-f957-2027b71251e7"
      },
      "source": [
        "\"\"\"\n",
        "cv2.imshow(\"Original\", img)\n",
        "cv2.imshow(\"2D filtered\", filt_2D)\n",
        "cv2.imshow(\"Blur\", blur)\n",
        "cv2.imshow(\"Gaussian Blur\", blur_gaussian)\n",
        "cv2.imshow(\"Median Blur\", median_blur)\n",
        "cv2.imshow(\"Bilateral\", bilateral_blur)\n",
        "cv2.waitKey(0)          \n",
        "cv2.destroyAllWindows() \n",
        "\"\"\"\n"
      ],
      "execution_count": 4,
      "outputs": [
        {
          "output_type": "execute_result",
          "data": {
            "application/vnd.google.colaboratory.intrinsic+json": {
              "type": "string"
            },
            "text/plain": [
              "'\\ncv2.imshow(\"Original\", img)\\ncv2.imshow(\"2D filtered\", filt_2D)\\ncv2.imshow(\"Blur\", blur)\\ncv2.imshow(\"Gaussian Blur\", blur_gaussian)\\ncv2.imshow(\"Median Blur\", median_blur)\\ncv2.imshow(\"Bilateral\", bilateral_blur)\\ncv2.waitKey(0)          \\ncv2.destroyAllWindows() \\n'"
            ]
          },
          "metadata": {
            "tags": []
          },
          "execution_count": 4
        }
      ]
    },
    {
      "cell_type": "code",
      "metadata": {
        "id": "Rl71qH7zBmxW",
        "colab_type": "code",
        "colab": {
          "base_uri": "https://localhost:8080/",
          "height": 35
        },
        "outputId": "a6500915-0bd1-4efa-8313-7992efd0ab6f"
      },
      "source": [
        "import cv2\n",
        "import numpy as np\n",
        "\n",
        "img = cv2.imread(\"/content/drive/My Drive/CVG/Neuron.jpg\", 0)\n",
        "edges = cv2.Canny(img,100,200)   #Image, min and max values\n",
        "\"\"\"\n",
        "cv2.imshow(\"Original Image\", img)\n",
        "cv2.imshow(\"Canny\", edges)\n",
        "\n",
        "cv2.waitKey(0)          \n",
        "cv2.destroyAllWindows() \n",
        "\"\"\"\n"
      ],
      "execution_count": 5,
      "outputs": [
        {
          "output_type": "execute_result",
          "data": {
            "application/vnd.google.colaboratory.intrinsic+json": {
              "type": "string"
            },
            "text/plain": [
              "'\\ncv2.imshow(\"Original Image\", img)\\ncv2.imshow(\"Canny\", edges)\\n\\ncv2.waitKey(0)          \\ncv2.destroyAllWindows() \\n'"
            ]
          },
          "metadata": {
            "tags": []
          },
          "execution_count": 5
        }
      ]
    },
    {
      "cell_type": "code",
      "metadata": {
        "id": "58tvwaa0ByUY",
        "colab_type": "code",
        "colab": {}
      },
      "source": [
        ""
      ],
      "execution_count": null,
      "outputs": []
    }
  ]
}