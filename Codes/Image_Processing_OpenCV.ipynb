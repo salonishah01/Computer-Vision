{
  "nbformat": 4,
  "nbformat_minor": 0,
  "metadata": {
    "colab": {
      "name": "Image_Processing_OpenCV.ipynb",
      "provenance": [],
      "toc_visible": true
    },
    "kernelspec": {
      "name": "python3",
      "display_name": "Python 3"
    }
  },
  "cells": [
    {
      "cell_type": "code",
      "metadata": {
        "id": "aWPwoihkJCFb",
        "colab_type": "code",
        "colab": {}
      },
      "source": [
        "#to install open CV : pip install opencv-python\n",
        "#to import the package you need to use import cv2\n",
        "\n",
        "#openCV is a library of programming functions mainly aimed at computer vision.\n",
        "#Very good for images and videos, especially real time videos.\n",
        "#It is used extensively for facial recognition, object recognition, motion tracking,\n",
        "#optical character recognition, segmentation, and even for artificial neural netwroks. \n",
        "\n",
        "#Useful preprocessing steps for image processing, for example segmentation. \n",
        "#1. SPlit & Merge channels\n",
        "#2. Scaling / resizing\n",
        "#3. Denoising / smoothing\n",
        "#4. Edge detection\n",
        "#5. Enhancing images. using histogram equalization\n"
      ],
      "execution_count": 1,
      "outputs": []
    },
    {
      "cell_type": "code",
      "metadata": {
        "id": "hsotRle_Jea8",
        "colab_type": "code",
        "colab": {
          "base_uri": "https://localhost:8080/",
          "height": 121
        },
        "outputId": "4bb1b28a-8194-4caa-8a02-1a9f5b158ca8"
      },
      "source": [
        "from google.colab import drive\n",
        "drive.mount(\"/content/drive\")"
      ],
      "execution_count": 2,
      "outputs": [
        {
          "output_type": "stream",
          "text": [
            "Go to this URL in a browser: https://accounts.google.com/o/oauth2/auth?client_id=947318989803-6bn6qk8qdgf4n4g3pfee6491hc0brc4i.apps.googleusercontent.com&redirect_uri=urn%3aietf%3awg%3aoauth%3a2.0%3aoob&response_type=code&scope=email%20https%3a%2f%2fwww.googleapis.com%2fauth%2fdocs.test%20https%3a%2f%2fwww.googleapis.com%2fauth%2fdrive%20https%3a%2f%2fwww.googleapis.com%2fauth%2fdrive.photos.readonly%20https%3a%2f%2fwww.googleapis.com%2fauth%2fpeopleapi.readonly\n",
            "\n",
            "Enter your authorization code:\n",
            "··········\n",
            "Mounted at /content/drive\n"
          ],
          "name": "stdout"
        }
      ]
    },
    {
      "cell_type": "code",
      "metadata": {
        "id": "kP_FkHYJJjpz",
        "colab_type": "code",
        "colab": {}
      },
      "source": [
        "import cv2\n",
        "\n",
        "grey_img = cv2.imread(\"/content/drive/My Drive/CVG/RGBY.jpg\", 0) \n",
        "img = cv2.imread(\"/content/drive/My Drive/CVG/RGBY.jpg\", 1)   "
      ],
      "execution_count": 3,
      "outputs": []
    },
    {
      "cell_type": "code",
      "metadata": {
        "id": "f5qQgsCvJ0Er",
        "colab_type": "code",
        "colab": {
          "base_uri": "https://localhost:8080/",
          "height": 101
        },
        "outputId": "87e10ee2-e5e7-46d2-c546-d5cf9f4a9834"
      },
      "source": [
        "print(img.shape)     \n",
        "print(\"Top left\", img[0,0])    #Top left pixel\n",
        "print(\"Top right\", img[0, 400])  # Top right\n",
        "print(\"Bottom Left\", img[580, 0]) # Bottom left\n",
        "print(\"Bottom right\", img[580, 400])  # Bottom right\n"
      ],
      "execution_count": 4,
      "outputs": [
        {
          "output_type": "stream",
          "text": [
            "(586, 415, 3)\n",
            "Top left [38  3  0]\n",
            "Top right [ 0 20 21]\n",
            "Bottom Left [ 0 55  0]\n",
            "Bottom right [ 16   6 250]\n"
          ],
          "name": "stdout"
        }
      ]
    },
    {
      "cell_type": "code",
      "metadata": {
        "id": "R0jQs7kDJ5wb",
        "colab_type": "code",
        "colab": {}
      },
      "source": [
        "#cv2.imshow(\"color pic\", img)\n",
        "#cv2.waitKey(0)          \n",
        "#cv2.destroyAllWindows() "
      ],
      "execution_count": 6,
      "outputs": []
    },
    {
      "cell_type": "code",
      "metadata": {
        "id": "CP_Qpk0rJ_1W",
        "colab_type": "code",
        "colab": {}
      },
      "source": [
        "#Split and merging channels\n",
        "#Show individual color channels in the image\n",
        "blue = img[:, :, 0]   #Show only blue pic. (BGR so B=0)\n",
        "green = img[:, :, 1]  #Show only green pixels\n",
        "red = img[:, :, 2]  #red only\n"
      ],
      "execution_count": 7,
      "outputs": []
    },
    {
      "cell_type": "code",
      "metadata": {
        "id": "srLWS_KJKJVJ",
        "colab_type": "code",
        "colab": {
          "base_uri": "https://localhost:8080/",
          "height": 35
        },
        "outputId": "0f6b9cbc-38c2-4391-80be-6b30e2b1a98c"
      },
      "source": [
        "\"\"\"\n",
        "cv2.imshow(\"red pic\", red)\n",
        "cv2.waitKey(0)          \n",
        "cv2.destroyAllWindows() \n",
        "\"\"\""
      ],
      "execution_count": 8,
      "outputs": [
        {
          "output_type": "execute_result",
          "data": {
            "application/vnd.google.colaboratory.intrinsic+json": {
              "type": "string"
            },
            "text/plain": [
              "'\\ncv2.imshow(\"red pic\", red)\\ncv2.waitKey(0)          \\ncv2.destroyAllWindows() \\n'"
            ]
          },
          "metadata": {
            "tags": []
          },
          "execution_count": 8
        }
      ]
    },
    {
      "cell_type": "code",
      "metadata": {
        "id": "hxUHSDgkKNTx",
        "colab_type": "code",
        "colab": {}
      },
      "source": [
        "\n",
        "#Or split all channels at once\n",
        "\n",
        "b,g,r = cv2.split(img)\n",
        "\n",
        "#cv2.imshow(\"green pic\", g)\n",
        "#cv2.waitKey(0)          \n",
        "#cv2.destroyAllWindows()"
      ],
      "execution_count": 10,
      "outputs": []
    },
    {
      "cell_type": "code",
      "metadata": {
        "id": "Ihbc7XxxKTlz",
        "colab_type": "code",
        "colab": {
          "base_uri": "https://localhost:8080/",
          "height": 35
        },
        "outputId": "e813d898-68ab-4a46-a475-72ee58e12d49"
      },
      "source": [
        "#to merge each image into bgr\n",
        "\n",
        "img_merged = cv2.merge((b,g,r))\n",
        "\"\"\"\n",
        "cv2.imshow(\"merged pic\", img_merged)\n",
        "cv2.waitKey(0)          \n",
        "cv2.destroyAllWindows() \n",
        "\"\"\""
      ],
      "execution_count": 11,
      "outputs": [
        {
          "output_type": "execute_result",
          "data": {
            "application/vnd.google.colaboratory.intrinsic+json": {
              "type": "string"
            },
            "text/plain": [
              "'\\ncv2.imshow(\"merged pic\", img_merged)\\ncv2.waitKey(0)          \\ncv2.destroyAllWindows() \\n'"
            ]
          },
          "metadata": {
            "tags": []
          },
          "execution_count": 11
        }
      ]
    },
    {
      "cell_type": "code",
      "metadata": {
        "id": "8LPE5xPtKc1Z",
        "colab_type": "code",
        "colab": {
          "base_uri": "https://localhost:8080/",
          "height": 35
        },
        "outputId": "5d038003-226e-43cb-8c97-2e406a9989f4"
      },
      "source": [
        "import cv2\n",
        "\n",
        "img = cv2.imread(\"/content/drive/My Drive/CVG/monkey.jpg\", 1)   #Color is BGR not RGB\n",
        "\n",
        "#use cv2.resize. Can specify size or scaling factor.\n",
        "#Inter_cubic or Inter_linear for zooming.\n",
        "#Use INTER_AREA for shrinking\n",
        "#Following xample zooms by 2 times.\n",
        "\n",
        "resized = cv2.resize(img, None, fx=2, fy=2, interpolation = cv2.INTER_CUBIC)\n",
        "\n",
        "\"\"\"\n",
        "cv2.imshow(\"original pic\", img)\n",
        "cv2.imshow(\"resized pic\", resized)\n",
        "cv2.waitKey(0)          \n",
        "cv2.destroyAllWindows() \n",
        "\"\"\""
      ],
      "execution_count": 13,
      "outputs": [
        {
          "output_type": "execute_result",
          "data": {
            "application/vnd.google.colaboratory.intrinsic+json": {
              "type": "string"
            },
            "text/plain": [
              "'\\ncv2.imshow(\"original pic\", img)\\ncv2.imshow(\"resized pic\", resized)\\ncv2.waitKey(0)          \\ncv2.destroyAllWindows() \\n'"
            ]
          },
          "metadata": {
            "tags": []
          },
          "execution_count": 13
        }
      ]
    },
    {
      "cell_type": "code",
      "metadata": {
        "id": "wTBJJrb-Kj-V",
        "colab_type": "code",
        "colab": {}
      },
      "source": [
        ""
      ],
      "execution_count": null,
      "outputs": []
    }
  ]
}