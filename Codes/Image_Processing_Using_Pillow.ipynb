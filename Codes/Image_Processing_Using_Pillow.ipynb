{
  "nbformat": 4,
  "nbformat_minor": 0,
  "metadata": {
    "colab": {
      "name": "Untitled12.ipynb",
      "provenance": []
    },
    "kernelspec": {
      "name": "python3",
      "display_name": "Python 3"
    }
  },
  "cells": [
    {
      "cell_type": "code",
      "metadata": {
        "id": "apUCIKPLKMpn",
        "colab_type": "code",
        "colab": {
          "base_uri": "https://localhost:8080/",
          "height": 121
        },
        "outputId": "8411e61e-245c-479f-d142-b66ebe828bcc"
      },
      "source": [
        "from google.colab import drive\n",
        "drive.mount('/content/gdrive')"
      ],
      "execution_count": 1,
      "outputs": [
        {
          "output_type": "stream",
          "text": [
            "Go to this URL in a browser: https://accounts.google.com/o/oauth2/auth?client_id=947318989803-6bn6qk8qdgf4n4g3pfee6491hc0brc4i.apps.googleusercontent.com&redirect_uri=urn%3aietf%3awg%3aoauth%3a2.0%3aoob&response_type=code&scope=email%20https%3a%2f%2fwww.googleapis.com%2fauth%2fdocs.test%20https%3a%2f%2fwww.googleapis.com%2fauth%2fdrive%20https%3a%2f%2fwww.googleapis.com%2fauth%2fdrive.photos.readonly%20https%3a%2f%2fwww.googleapis.com%2fauth%2fpeopleapi.readonly\n",
            "\n",
            "Enter your authorization code:\n",
            "··········\n",
            "Mounted at /content/gdrive\n"
          ],
          "name": "stdout"
        }
      ]
    },
    {
      "cell_type": "code",
      "metadata": {
        "id": "aKiVz7Y8FGpm",
        "colab_type": "code",
        "colab": {
          "base_uri": "https://localhost:8080/",
          "height": 34
        },
        "outputId": "ed891f81-0598-4af5-8535-f4822e9315aa"
      },
      "source": [
        "from PIL import Image \n",
        "  \n",
        "img = Image.open(\"/content/gdrive/My Drive/CVG/veges.png\") #Not a numpy array\n",
        "print(type(img))"
      ],
      "execution_count": 2,
      "outputs": [
        {
          "output_type": "stream",
          "text": [
            "<class 'PIL.PngImagePlugin.PngImageFile'>\n"
          ],
          "name": "stdout"
        }
      ]
    },
    {
      "cell_type": "code",
      "metadata": {
        "id": "e_Ch7HdTLO4e",
        "colab_type": "code",
        "colab": {
          "base_uri": "https://localhost:8080/",
          "height": 67
        },
        "outputId": "5e3fde6d-d92f-4d3a-ba13-c7ad17c2c47a"
      },
      "source": [
        "# show Images on external default viewer. This can be paint or photo viewer on Windows\n",
        "img.show() \n",
        " \n",
        "# prints format of image \n",
        "print(img.format) \n",
        "  \n",
        "# prints mode of image RGB or CMYK\n",
        "print(img.mode) \n",
        "\n",
        "print(img. size)  #prints the size of image (wodth, height)\n"
      ],
      "execution_count": 4,
      "outputs": [
        {
          "output_type": "stream",
          "text": [
            "PNG\n",
            "RGBA\n",
            "(860, 459)\n"
          ],
          "name": "stdout"
        }
      ]
    },
    {
      "cell_type": "code",
      "metadata": {
        "id": "aqMHYj1bLR7w",
        "colab_type": "code",
        "colab": {}
      },
      "source": [
        "# Resize images\n",
        "small_img = img.resize((200, 300))\n",
        "small_img.save(\"/content/gdrive/My Drive/CVG/veges_small.png\")  #squished image\n",
        "\n",
        "# resize() method resizes images to exact value whether it makes sense or not.\n",
        "#aspect ratio is not maintained so images are squished."
      ],
      "execution_count": 7,
      "outputs": []
    },
    {
      "cell_type": "code",
      "metadata": {
        "id": "l_49eiwzLemj",
        "colab_type": "code",
        "colab": {
          "base_uri": "https://localhost:8080/",
          "height": 50
        },
        "outputId": "96a66323-e3be-4167-fbb7-270858a59ae2"
      },
      "source": [
        "#if you want to keep the aspect ration then use thumbnai() method\n",
        "img.thumbnail((200, 200))\n",
        "#img.save(\"/content/gdrive/My Drive/CVG/veges_small.png\")\n",
        "\n",
        "print(img.size)\n",
        "\n",
        "img.thumbnail((1200, 1200))  #doesn't blow up the image, only reduces the size if original is larger.\n",
        "#img.save(\"/content/gdrive/My Drive/CVG/veges_small.png\")  \n",
        "\n",
        "large_img = img.resize((1200, 1300))\n",
        "#large_img.save(\"/content/gdrive/My Drive/CVG/veges_large.png\")  #enlarged image. \n",
        "print(large_img.size)"
      ],
      "execution_count": 8,
      "outputs": [
        {
          "output_type": "stream",
          "text": [
            "(200, 107)\n",
            "(1200, 1300)\n"
          ],
          "name": "stdout"
        }
      ]
    },
    {
      "cell_type": "code",
      "metadata": {
        "id": "AtLZfAv0MM9L",
        "colab_type": "code",
        "colab": {}
      },
      "source": [
        "#Cropping images\n",
        "from PIL import Image \n",
        "img = Image.open(\"/content/gdrive/My Drive/CVG/veges.png\")\n",
        "cropped_img = img.crop((0, 0, 300, 300))  #crops from (0,0) to (300,300)\n",
        "#cropped_img.save(\"images/cropped_img.jpg\")"
      ],
      "execution_count": 11,
      "outputs": []
    },
    {
      "cell_type": "code",
      "metadata": {
        "id": "FMjrt369MUIN",
        "colab_type": "code",
        "colab": {
          "base_uri": "https://localhost:8080/",
          "height": 50
        },
        "outputId": "ce82524e-e93c-42c9-c897-d3ffdc0ea8bb"
      },
      "source": [
        "# We can paste image on another image\n",
        "#this involves copying original image and pasting a second image on it\n",
        "from PIL import Image \n",
        "img1 = Image.open(\"/content/gdrive/My Drive/CVG/veges.png\")\n",
        "print(img1.size)\n",
        "img2 = Image.open(\"/content/gdrive/My Drive/CVG/lena_dark.png\")\n",
        "print(img2.size)\n",
        "img2.thumbnail((200, 200))  #Resize in case the image is very large. \n",
        "\n",
        "img1_copy = img1.copy()   #Create a copy of the large image\n",
        "img1_copy.paste(img2, (50, 50))  #Paset the smaller imager image at specified location\n",
        "img1_copy.save(\"/content/gdrive/My Drive/CVG/pasted_image.png\")\n"
      ],
      "execution_count": 14,
      "outputs": [
        {
          "output_type": "stream",
          "text": [
            "(860, 459)\n",
            "(256, 256)\n"
          ],
          "name": "stdout"
        }
      ]
    },
    {
      "cell_type": "code",
      "metadata": {
        "id": "-X0PR83tM2_N",
        "colab_type": "code",
        "colab": {}
      },
      "source": [
        "# Rotating images\n",
        "from PIL import Image \n",
        "img = Image.open(\"/content/gdrive/My Drive/CVG/veges.png\")\n",
        "\n",
        "img_90_rot = img.rotate(90)\n",
        "#img_90_rot.save(\"/content/gdrive/My Drive/CVG/veges_rot90.png\")  #keeps original aspect ratio and dimensions\n",
        "\n",
        "img_45_rot = img.rotate(45)\n",
        "#img_45_rot.save(\"/content/gdrive/My Drive/CVG/veges_rot45.png\")  #keeps original aspect ratio and dimensions\n",
        "\n",
        "img_45_rot = img.rotate(45, expand=True)  #Dimensions are expanded to fit the entire image\n",
        "#img_45_rot.save(\"/content/gdrive/My Drive/CVG/veges_rot45expand.png\")"
      ],
      "execution_count": 16,
      "outputs": []
    },
    {
      "cell_type": "code",
      "metadata": {
        "id": "2Z9wJzGXNSO1",
        "colab_type": "code",
        "colab": {}
      },
      "source": [
        "#Flipping or transposing images\n",
        "\n",
        "from PIL import Image \n",
        "img = Image.open(\"/content/gdrive/My Drive/CVG/veges.png\")  #easy to see that the image is flipped\n",
        "\n",
        "img_flipLR = img.transpose(Image.FLIP_LEFT_RIGHT)\n",
        "#img_flipLR.save(\"/content/gdrive/My Drive/CVG/veges_LR.png\")\n",
        "\n",
        "img_flipTB = img.transpose(Image.FLIP_TOP_BOTTOM)\n",
        "#img_flipTB.save(\"/content/gdrive/My Drive/CVG/veges_TB.png\")\n",
        "\n",
        "# Color transforms, convert images between L (greyscale), RGB and CMYK\n",
        "from PIL import Image \n",
        "img = Image.open(\"/content/gdrive/My Drive/CVG/veges.png\")\n",
        "\n",
        "grey_img = img.convert('L')  #L is for grey scale\n",
        "#grey_img.save(\"/content/gdrive/My Drive/CVG/veges_L.png\")\n"
      ],
      "execution_count": 17,
      "outputs": []
    },
    {
      "cell_type": "code",
      "metadata": {
        "id": "nZehWpioN_Hu",
        "colab_type": "code",
        "colab": {
          "base_uri": "https://localhost:8080/",
          "height": 101
        },
        "outputId": "30060417-a904-43b0-9b51-ced7328c19dd"
      },
      "source": [
        "#Here is a way to automate image processing for multiple images.\n",
        "\n",
        "from PIL import Image \n",
        "import glob\n",
        "\n",
        "path = \"/content/gdrive/My Drive/CVG/*.*\"\n",
        "for file in glob.glob(path):\n",
        "    print(file)     #just stop here to see all file names printed\n",
        "    a= Image.open(file)  #now, we can read each file since we have the full path\n",
        "    \n",
        "    rotated45 = a.rotate(45, expand=True)\n",
        "    #rotated45.save(file+\"_rotated45.png\", \"PNG\")   \n",
        "\n"
      ],
      "execution_count": 19,
      "outputs": [
        {
          "output_type": "stream",
          "text": [
            "/content/gdrive/My Drive/CVG/lena_dark.png\n",
            "/content/gdrive/My Drive/CVG/histogram_equalised.png\n",
            "/content/gdrive/My Drive/CVG/veges.png\n",
            "/content/gdrive/My Drive/CVG/veges_small.png\n",
            "/content/gdrive/My Drive/CVG/pasted_image.png\n"
          ],
          "name": "stdout"
        }
      ]
    },
    {
      "cell_type": "code",
      "metadata": {
        "id": "w3XutlRaONNf",
        "colab_type": "code",
        "colab": {}
      },
      "source": [
        ""
      ],
      "execution_count": 18,
      "outputs": []
    }
  ]
}