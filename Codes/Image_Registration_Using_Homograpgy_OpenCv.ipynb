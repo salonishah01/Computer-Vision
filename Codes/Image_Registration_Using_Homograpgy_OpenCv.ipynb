{
  "nbformat": 4,
  "nbformat_minor": 0,
  "metadata": {
    "colab": {
      "name": "Image_Registration_Using_Homograpgy_OpenCv.ipynb",
      "provenance": []
    },
    "kernelspec": {
      "name": "python3",
      "display_name": "Python 3"
    }
  },
  "cells": [
    {
      "cell_type": "code",
      "metadata": {
        "id": "k6j9Lut0jhxk",
        "colab_type": "code",
        "colab": {
          "base_uri": "https://localhost:8080/",
          "height": 121
        },
        "outputId": "519601a5-d2b9-4fe3-e85e-b41b06f2755f"
      },
      "source": [
        "from google.colab import drive\n",
        "drive.mount(\"/content/drive\")"
      ],
      "execution_count": 1,
      "outputs": [
        {
          "output_type": "stream",
          "text": [
            "Go to this URL in a browser: https://accounts.google.com/o/oauth2/auth?client_id=947318989803-6bn6qk8qdgf4n4g3pfee6491hc0brc4i.apps.googleusercontent.com&redirect_uri=urn%3aietf%3awg%3aoauth%3a2.0%3aoob&response_type=code&scope=email%20https%3a%2f%2fwww.googleapis.com%2fauth%2fdocs.test%20https%3a%2f%2fwww.googleapis.com%2fauth%2fdrive%20https%3a%2f%2fwww.googleapis.com%2fauth%2fdrive.photos.readonly%20https%3a%2f%2fwww.googleapis.com%2fauth%2fpeopleapi.readonly\n",
            "\n",
            "Enter your authorization code:\n",
            "··········\n",
            "Mounted at /content/drive\n"
          ],
          "name": "stdout"
        }
      ]
    },
    {
      "cell_type": "code",
      "metadata": {
        "id": "Ch6i9WR6j_W0",
        "colab_type": "code",
        "colab": {}
      },
      "source": [
        "import numpy as np\n",
        "import cv2\n",
        "from matplotlib import pyplot as plt\n",
        "\n",
        "im1 = cv2.imread('/content/drive/My Drive/CVG/monkey_distorted.jpg')          # Image that needs to be registered.\n",
        "im2 = cv2.imread('/content/drive/My Drive/CVG/monkey.jpg') # trainImage"
      ],
      "execution_count": 2,
      "outputs": []
    },
    {
      "cell_type": "code",
      "metadata": {
        "id": "-XqfRTaGkfh0",
        "colab_type": "code",
        "colab": {}
      },
      "source": [
        "img1 = cv2.cvtColor(im1, cv2.COLOR_BGR2GRAY)\n",
        "img2 = cv2.cvtColor(im2, cv2.COLOR_BGR2GRAY)\n"
      ],
      "execution_count": 3,
      "outputs": []
    },
    {
      "cell_type": "code",
      "metadata": {
        "id": "UKbVxGpEkmjF",
        "colab_type": "code",
        "colab": {}
      },
      "source": [
        "# Initiate ORB detector\n",
        "orb = cv2.ORB_create(50)  #Registration works with at least 50 points\n",
        "\n",
        "# find the keypoints and descriptors with orb\n",
        "kp1, des1 = orb.detectAndCompute(img1, None)  #kp1 --> list of keypoints\n",
        "kp2, des2 = orb.detectAndCompute(img2, None)"
      ],
      "execution_count": 4,
      "outputs": []
    },
    {
      "cell_type": "code",
      "metadata": {
        "id": "0aaF3ahSkrcW",
        "colab_type": "code",
        "colab": {}
      },
      "source": [
        "#Brute-Force matcher takes the descriptor of one feature in first set and is \n",
        "#matched with all other features in second set using some distance calculation.\n",
        "# create Matcher object"
      ],
      "execution_count": 5,
      "outputs": []
    },
    {
      "cell_type": "code",
      "metadata": {
        "id": "MDojq7rvkx4a",
        "colab_type": "code",
        "colab": {}
      },
      "source": [
        "matcher = cv2.DescriptorMatcher_create(cv2.DESCRIPTOR_MATCHER_BRUTEFORCE_HAMMING)"
      ],
      "execution_count": 6,
      "outputs": []
    },
    {
      "cell_type": "code",
      "metadata": {
        "id": "MVMz3zwRk2P8",
        "colab_type": "code",
        "colab": {}
      },
      "source": [
        "# Match descriptors.\n",
        "matches = matcher.match(des1, des2, None)  #Creates a list of all matches, just like keypoints\n",
        "\n",
        "# Sort them in the order of their distance.\n",
        "matches = sorted(matches, key = lambda x:x.distance)"
      ],
      "execution_count": 7,
      "outputs": []
    },
    {
      "cell_type": "code",
      "metadata": {
        "id": "6jobMrATk7NR",
        "colab_type": "code",
        "colab": {
          "base_uri": "https://localhost:8080/",
          "height": 35
        },
        "outputId": "9b1a8cd4-3f0d-4c7e-ff07-9bb75f65d1f2"
      },
      "source": [
        "img3 = cv2.drawMatches(im1,kp1, im2, kp2, matches[:10], None)\n",
        "\"\"\"\n",
        "cv2.imshow(\"Matches image\", img3)\n",
        "cv2.waitKey(0)\n",
        "\"\"\""
      ],
      "execution_count": 8,
      "outputs": [
        {
          "output_type": "execute_result",
          "data": {
            "application/vnd.google.colaboratory.intrinsic+json": {
              "type": "string"
            },
            "text/plain": [
              "'\\ncv2.imshow(\"Matches image\", img3)\\ncv2.waitKey(0)\\n'"
            ]
          },
          "metadata": {
            "tags": []
          },
          "execution_count": 8
        }
      ]
    },
    {
      "cell_type": "code",
      "metadata": {
        "id": "s-rUtU5ZlAu0",
        "colab_type": "code",
        "colab": {}
      },
      "source": [
        "#Now let us use these key points to register two images. \n",
        "#Can be used for distortion correction or alignment\n",
        "#For this task we will use homography. \n",
        "\n",
        "\n",
        "# Extract location of good matches.\n",
        "# For this we will use RANSAC.\n",
        "#RANSAC is abbreviation of RANdom SAmple Consensus, \n",
        "#in summary it can be considered as outlier rejection method for keypoints.\n",
        "#RANSAC needs all key points indexed, first set indexed to queryIdx\n",
        "#Second set to #trainIdx. \n"
      ],
      "execution_count": 9,
      "outputs": []
    },
    {
      "cell_type": "code",
      "metadata": {
        "id": "ZfLulj_zlLcl",
        "colab_type": "code",
        "colab": {}
      },
      "source": [
        "points1 = np.zeros((len(matches), 2), dtype=np.float32)  #Prints empty array of size equal to (matches, 2)\n",
        "points2 = np.zeros((len(matches), 2), dtype=np.float32)\n",
        "\n",
        "for i, match in enumerate(matches):\n",
        "   points1[i, :] = kp1[match.queryIdx].pt    #gives index of the descriptor in the list of query descriptors\n",
        "   points2[i, :] = kp2[match.trainIdx].pt    #gives index of the descriptor in the list of train descriptors\n"
      ],
      "execution_count": 10,
      "outputs": []
    },
    {
      "cell_type": "code",
      "metadata": {
        "id": "VUnqjcKXlL_v",
        "colab_type": "code",
        "colab": {}
      },
      "source": [
        "#Now we have all good keypoints so we are ready for homography.   \n",
        "# Find homography\n",
        "#https://en.wikipedia.org/wiki/Homography_(computer_vision)\n",
        "  \n",
        "h, mask = cv2.findHomography(points1, points2, cv2.RANSAC)\n",
        " \n",
        "  # Use homography\n",
        "height, width, channels = im2.shape\n",
        "im1Reg = cv2.warpPerspective(im1, h, (width, height))  #Applies a perspective transformation to an image."
      ],
      "execution_count": 11,
      "outputs": []
    },
    {
      "cell_type": "code",
      "metadata": {
        "id": "zHru7UbXlPkR",
        "colab_type": "code",
        "colab": {
          "base_uri": "https://localhost:8080/",
          "height": 84
        },
        "outputId": "8e765241-e608-485d-884b-5b4d0f84a5bd"
      },
      "source": [
        "print(\"Estimated homography : \\n\",  h)"
      ],
      "execution_count": 12,
      "outputs": [
        {
          "output_type": "stream",
          "text": [
            "Estimated homography : \n",
            " [[ 1.58086690e+00  1.32767006e-01 -6.29327345e+01]\n",
            " [-1.47000605e-02  1.02210326e+00  6.27648927e+00]\n",
            " [ 1.84423603e-04  1.14677972e-04  1.00000000e+00]]\n"
          ],
          "name": "stdout"
        }
      ]
    },
    {
      "cell_type": "code",
      "metadata": {
        "id": "qNlkz5HDlSne",
        "colab_type": "code",
        "colab": {
          "base_uri": "https://localhost:8080/",
          "height": 35
        },
        "outputId": "bbb789fb-433d-4139-bd0c-f905223fc0ff"
      },
      "source": [
        "\"\"\"\n",
        "cv2.imshow(\"Registered image\", im1Reg)\n",
        "cv2.waitKey()\n",
        "\"\"\""
      ],
      "execution_count": 13,
      "outputs": [
        {
          "output_type": "execute_result",
          "data": {
            "application/vnd.google.colaboratory.intrinsic+json": {
              "type": "string"
            },
            "text/plain": [
              "'\\ncv2.imshow(\"Registered image\", im1Reg)\\ncv2.waitKey()\\n'"
            ]
          },
          "metadata": {
            "tags": []
          },
          "execution_count": 13
        }
      ]
    },
    {
      "cell_type": "code",
      "metadata": {
        "id": "JtJ35OwDlV86",
        "colab_type": "code",
        "colab": {}
      },
      "source": [
        ""
      ],
      "execution_count": null,
      "outputs": []
    }
  ]
}