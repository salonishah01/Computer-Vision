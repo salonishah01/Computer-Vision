{
  "nbformat": 4,
  "nbformat_minor": 0,
  "metadata": {
    "colab": {
      "name": "Scratch_Assay_Analysis.ipynb",
      "provenance": [],
      "toc_visible": true
    },
    "kernelspec": {
      "name": "python3",
      "display_name": "Python 3"
    }
  },
  "cells": [
    {
      "cell_type": "code",
      "metadata": {
        "id": "gOX-SrUEIzKg",
        "colab_type": "code",
        "colab": {
          "base_uri": "https://localhost:8080/",
          "height": 121
        },
        "outputId": "e393423c-dd49-4047-dc96-d1039a3cecd0"
      },
      "source": [
        "from google.colab import drive\n",
        "drive.mount('/content/gdrive')"
      ],
      "execution_count": 1,
      "outputs": [
        {
          "output_type": "stream",
          "text": [
            "Go to this URL in a browser: https://accounts.google.com/o/oauth2/auth?client_id=947318989803-6bn6qk8qdgf4n4g3pfee6491hc0brc4i.apps.googleusercontent.com&redirect_uri=urn%3aietf%3awg%3aoauth%3a2.0%3aoob&response_type=code&scope=email%20https%3a%2f%2fwww.googleapis.com%2fauth%2fdocs.test%20https%3a%2f%2fwww.googleapis.com%2fauth%2fdrive%20https%3a%2f%2fwww.googleapis.com%2fauth%2fdrive.photos.readonly%20https%3a%2f%2fwww.googleapis.com%2fauth%2fpeopleapi.readonly\n",
            "\n",
            "Enter your authorization code:\n",
            "··········\n",
            "Mounted at /content/gdrive\n"
          ],
          "name": "stdout"
        }
      ]
    },
    {
      "cell_type": "code",
      "metadata": {
        "id": "ybJkaamzJBFS",
        "colab_type": "code",
        "colab": {}
      },
      "source": [
        "import matplotlib.pyplot as plt\n",
        "from skimage import io\n",
        "from skimage.filters.rank import entropy\n",
        "from skimage.morphology import disk\n",
        "import numpy as np\n",
        "from skimage.filters import threshold_otsu\n",
        "\n",
        "\n",
        "import glob\n"
      ],
      "execution_count": 2,
      "outputs": []
    },
    {
      "cell_type": "code",
      "metadata": {
        "id": "v-NZv4aUJfFN",
        "colab_type": "code",
        "colab": {
          "base_uri": "https://localhost:8080/",
          "height": 433
        },
        "outputId": "06a8e61d-0c46-4536-f94d-84d6c805708e"
      },
      "source": [
        "time = 0\n",
        "time_list=[]\n",
        "area_list=[]\n",
        "path = \"/content/gdrive/My Drive/CVG/Scratch/*.*\"\n",
        "for file in glob.glob(path):\n",
        "    dict={}\n",
        "    img=io.imread(file)\n",
        "    entropy_img = entropy(img, disk(3))\n",
        "    thresh = threshold_otsu(entropy_img)\n",
        "    binary = entropy_img <= thresh\n",
        "    scratch_area = np.sum(binary == 1)\n",
        "    print(\"time=\", time, \"hr  \", \"Scratch area=\", scratch_area, \"pix\\N{SUPERSCRIPT TWO}\")\n",
        "    time_list.append(time)\n",
        "    area_list.append(scratch_area)\n",
        "    time += 1\n",
        "\n",
        "#print(time_list, area_list)\n",
        "plt.plot(time_list, area_list, 'bo')  #Print blue dots scatter plot\n"
      ],
      "execution_count": 3,
      "outputs": [
        {
          "output_type": "stream",
          "text": [
            "time= 0 hr   Scratch area= 33426 pix²\n",
            "time= 1 hr   Scratch area= 27683 pix²\n",
            "time= 2 hr   Scratch area= 24106 pix²\n",
            "time= 3 hr   Scratch area= 18481 pix²\n",
            "time= 4 hr   Scratch area= 16105 pix²\n",
            "time= 5 hr   Scratch area= 14417 pix²\n",
            "time= 6 hr   Scratch area= 12717 pix²\n",
            "time= 7 hr   Scratch area= 10957 pix²\n",
            "time= 8 hr   Scratch area= 9337 pix²\n"
          ],
          "name": "stdout"
        },
        {
          "output_type": "execute_result",
          "data": {
            "text/plain": [
              "[<matplotlib.lines.Line2D at 0x7f385f12aa20>]"
            ]
          },
          "metadata": {
            "tags": []
          },
          "execution_count": 3
        },
        {
          "output_type": "display_data",
          "data": {
            "image/png": "[encoded data removed]",
            "text/plain": [
              "<Figure size 432x288 with 1 Axes>"
            ]
          },
          "metadata": {
            "tags": [],
            "needs_background": "light"
          }
        }
      ]
    },
    {
      "cell_type": "code",
      "metadata": {
        "id": "esqBRd8XJmDs",
        "colab_type": "code",
        "colab": {
          "base_uri": "https://localhost:8080/",
          "height": 50
        },
        "outputId": "e866bbfc-8a0b-45f9-9216-b6cf52b7138e"
      },
      "source": [
        "#Print slope, intercept\n",
        "from scipy.stats import linregress\n",
        "#print(linregress(time_list, area_list))\n",
        "\n",
        "\n",
        "slope, intercept, r_value, p_value, std_err = linregress(time_list, area_list)\n",
        "print(\"y = \",slope, \"x\", \" + \", intercept  )\n",
        "print(\"R\\N{SUPERSCRIPT TWO} = \", r_value**2)\n",
        "#print(\"r-squared: %f\" % r_value**2)"
      ],
      "execution_count": 4,
      "outputs": [
        {
          "output_type": "stream",
          "text": [
            "y =  -2889.6000000000004 x  +  30139.4\n",
            "R² =  0.9360942608727407\n"
          ],
          "name": "stdout"
        }
      ]
    },
    {
      "cell_type": "code",
      "metadata": {
        "id": "STX6i-JXJxie",
        "colab_type": "code",
        "colab": {}
      },
      "source": [
        ""
      ],
      "execution_count": null,
      "outputs": []
    }
  ]
}