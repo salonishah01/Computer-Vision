{
  "nbformat": 4,
  "nbformat_minor": 0,
  "metadata": {
    "colab": {
      "name": "Thresholding_And_Morphological_Operations_OpenCv.ipynb",
      "provenance": [],
      "toc_visible": true
    },
    "kernelspec": {
      "name": "python3",
      "display_name": "Python 3"
    }
  },
  "cells": [
    {
      "cell_type": "code",
      "metadata": {
        "id": "Udg2dzB8d1bP",
        "colab_type": "code",
        "colab": {
          "base_uri": "https://localhost:8080/",
          "height": 121
        },
        "outputId": "d5cf1e4f-a2aa-4e5e-8615-f1d83668dd8c"
      },
      "source": [
        "from google.colab import drive\n",
        "drive.mount(\"/content/drive\")"
      ],
      "execution_count": 1,
      "outputs": [
        {
          "output_type": "stream",
          "text": [
            "Go to this URL in a browser: https://accounts.google.com/o/oauth2/auth?client_id=947318989803-6bn6qk8qdgf4n4g3pfee6491hc0brc4i.apps.googleusercontent.com&redirect_uri=urn%3aietf%3awg%3aoauth%3a2.0%3aoob&response_type=code&scope=email%20https%3a%2f%2fwww.googleapis.com%2fauth%2fdocs.test%20https%3a%2f%2fwww.googleapis.com%2fauth%2fdrive%20https%3a%2f%2fwww.googleapis.com%2fauth%2fdrive.photos.readonly%20https%3a%2f%2fwww.googleapis.com%2fauth%2fpeopleapi.readonly\n",
            "\n",
            "Enter your authorization code:\n",
            "··········\n",
            "Mounted at /content/drive\n"
          ],
          "name": "stdout"
        }
      ]
    },
    {
      "cell_type": "code",
      "metadata": {
        "id": "e4HIR1ZBd65n",
        "colab_type": "code",
        "colab": {}
      },
      "source": [
        "import cv2\n",
        "import matplotlib.pyplot as plt\n",
        "import numpy as np\n"
      ],
      "execution_count": 2,
      "outputs": []
    },
    {
      "cell_type": "code",
      "metadata": {
        "id": "FEsR7FioeQ2_",
        "colab_type": "code",
        "colab": {}
      },
      "source": [
        "img = cv2.imread(\"/content/drive/My Drive/CVG/BSE_Google_noisy.jpg\", 0)\n",
        "\n",
        "ret,th = cv2.threshold(img,0,255,cv2.THRESH_BINARY+cv2.THRESH_OTSU)\n"
      ],
      "execution_count": 3,
      "outputs": []
    },
    {
      "cell_type": "code",
      "metadata": {
        "id": "FaYr-bPYeZ8g",
        "colab_type": "code",
        "colab": {}
      },
      "source": [
        "kernel = np.ones((3,3),np.uint8)   # 3x3 kernel with all ones. \n",
        "erosion = cv2.erode(th,kernel,iterations = 1)  #Erodes pixels based on the kernel defined\n",
        "\n",
        "dilation = cv2.dilate(erosion,kernel,iterations = 1)  #Apply dilation after erosion to see the effect. \n"
      ],
      "execution_count": 4,
      "outputs": []
    },
    {
      "cell_type": "code",
      "metadata": {
        "id": "KIVqiEL8eh8w",
        "colab_type": "code",
        "colab": {}
      },
      "source": [
        "#Erosion followed by dilation can be a single operation called opening\n",
        "opening = cv2.morphologyEx(th, cv2.MORPH_OPEN, kernel)  # Compare this image with the previous one"
      ],
      "execution_count": 5,
      "outputs": []
    },
    {
      "cell_type": "code",
      "metadata": {
        "id": "gUc5ngq3e3OG",
        "colab_type": "code",
        "colab": {}
      },
      "source": [
        "#Closing is opposit, dilation followed by erosion.\n",
        "closing = cv2.morphologyEx(th, cv2.MORPH_CLOSE, kernel)"
      ],
      "execution_count": 6,
      "outputs": []
    },
    {
      "cell_type": "code",
      "metadata": {
        "id": "LaHnpHhwe6jK",
        "colab_type": "code",
        "colab": {}
      },
      "source": [
        "#Morphological gradient. This is the difference between dilation and erosion of an image\n",
        "gradient = cv2.morphologyEx(th, cv2.MORPH_GRADIENT, kernel)\n"
      ],
      "execution_count": 7,
      "outputs": []
    },
    {
      "cell_type": "code",
      "metadata": {
        "id": "5zlrl7d6e9p1",
        "colab_type": "code",
        "colab": {}
      },
      "source": [
        "#It is the difference between input image and Opening of the image. \n",
        "tophat = cv2.morphologyEx(th, cv2.MORPH_TOPHAT, kernel)\n"
      ],
      "execution_count": 8,
      "outputs": []
    },
    {
      "cell_type": "code",
      "metadata": {
        "id": "A886Ym9HfACb",
        "colab_type": "code",
        "colab": {}
      },
      "source": [
        "#It is the difference between the closing of the input image and input image.\n",
        "blackhat = cv2.morphologyEx(img, cv2.MORPH_BLACKHAT, kernel)\n",
        "\n",
        "\n",
        "#show all the images and check the difference"
      ],
      "execution_count": 9,
      "outputs": []
    },
    {
      "cell_type": "code",
      "metadata": {
        "id": "hmljOqVYfKAf",
        "colab_type": "code",
        "colab": {}
      },
      "source": [
        ""
      ],
      "execution_count": null,
      "outputs": []
    }
  ]
}